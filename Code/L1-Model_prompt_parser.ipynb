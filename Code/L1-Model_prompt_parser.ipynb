{
 "cells": [
  {
   "cell_type": "markdown",
   "metadata": {},
   "source": [
    "# LangChain: Models, Prompts and Output Parsers\n",
    "\n",
    "## Notebook Overview\n",
    " * Direct API calls to OpenAI\n",
    " * API calls through LangChain:\n",
    "   * Prompts\n",
    "   * Models\n",
    "   * Output parsers\n",
    "\n",
    "Install required libraries"
   ]
  },
  {
   "cell_type": "code",
   "execution_count": 4,
   "metadata": {},
   "outputs": [
    {
     "name": "stdout",
     "output_type": "stream",
     "text": [
      "Collecting python-dotenv==0.21.0\n",
      "  Downloading python_dotenv-0.21.0-py3-none-any.whl.metadata (20 kB)\n",
      "Downloading python_dotenv-0.21.0-py3-none-any.whl (18 kB)\n",
      "Installing collected packages: python-dotenv\n",
      "  Attempting uninstall: python-dotenv\n",
      "    Found existing installation: python-dotenv 1.0.1\n",
      "    Uninstalling python-dotenv-1.0.1:\n",
      "      Successfully uninstalled python-dotenv-1.0.1\n",
      "Successfully installed python-dotenv-0.21.0\n",
      "Note: you may need to restart the kernel to use updated packages.\n",
      "Requirement already satisfied: openai==1.59.4 in c:\\users\\rg255041\\appdata\\local\\anaconda3\\envs\\langchain\\lib\\site-packages (1.59.4)\n",
      "Requirement already satisfied: anyio<5,>=3.5.0 in c:\\users\\rg255041\\appdata\\local\\anaconda3\\envs\\langchain\\lib\\site-packages (from openai==1.59.4) (4.8.0)\n",
      "Requirement already satisfied: distro<2,>=1.7.0 in c:\\users\\rg255041\\appdata\\local\\anaconda3\\envs\\langchain\\lib\\site-packages (from openai==1.59.4) (1.9.0)\n",
      "Requirement already satisfied: httpx<1,>=0.23.0 in c:\\users\\rg255041\\appdata\\local\\anaconda3\\envs\\langchain\\lib\\site-packages (from openai==1.59.4) (0.28.1)\n",
      "Requirement already satisfied: jiter<1,>=0.4.0 in c:\\users\\rg255041\\appdata\\local\\anaconda3\\envs\\langchain\\lib\\site-packages (from openai==1.59.4) (0.8.2)\n",
      "Requirement already satisfied: pydantic<3,>=1.9.0 in c:\\users\\rg255041\\appdata\\local\\anaconda3\\envs\\langchain\\lib\\site-packages (from openai==1.59.4) (2.10.4)\n",
      "Requirement already satisfied: sniffio in c:\\users\\rg255041\\appdata\\local\\anaconda3\\envs\\langchain\\lib\\site-packages (from openai==1.59.4) (1.3.1)\n",
      "Requirement already satisfied: tqdm>4 in c:\\users\\rg255041\\appdata\\local\\anaconda3\\envs\\langchain\\lib\\site-packages (from openai==1.59.4) (4.67.1)\n",
      "Requirement already satisfied: typing-extensions<5,>=4.11 in c:\\users\\rg255041\\appdata\\local\\anaconda3\\envs\\langchain\\lib\\site-packages (from openai==1.59.4) (4.12.2)\n",
      "Requirement already satisfied: idna>=2.8 in c:\\users\\rg255041\\appdata\\local\\anaconda3\\envs\\langchain\\lib\\site-packages (from anyio<5,>=3.5.0->openai==1.59.4) (3.10)\n",
      "Requirement already satisfied: certifi in c:\\users\\rg255041\\appdata\\local\\anaconda3\\envs\\langchain\\lib\\site-packages (from httpx<1,>=0.23.0->openai==1.59.4) (2024.12.14)\n",
      "Requirement already satisfied: httpcore==1.* in c:\\users\\rg255041\\appdata\\local\\anaconda3\\envs\\langchain\\lib\\site-packages (from httpx<1,>=0.23.0->openai==1.59.4) (1.0.7)\n",
      "Requirement already satisfied: h11<0.15,>=0.13 in c:\\users\\rg255041\\appdata\\local\\anaconda3\\envs\\langchain\\lib\\site-packages (from httpcore==1.*->httpx<1,>=0.23.0->openai==1.59.4) (0.14.0)\n",
      "Requirement already satisfied: annotated-types>=0.6.0 in c:\\users\\rg255041\\appdata\\local\\anaconda3\\envs\\langchain\\lib\\site-packages (from pydantic<3,>=1.9.0->openai==1.59.4) (0.7.0)\n",
      "Requirement already satisfied: pydantic-core==2.27.2 in c:\\users\\rg255041\\appdata\\local\\anaconda3\\envs\\langchain\\lib\\site-packages (from pydantic<3,>=1.9.0->openai==1.59.4) (2.27.2)\n",
      "Requirement already satisfied: colorama in c:\\users\\rg255041\\appdata\\local\\anaconda3\\envs\\langchain\\lib\\site-packages (from tqdm>4->openai==1.59.4) (0.4.6)\n",
      "Note: you may need to restart the kernel to use updated packages.\n",
      "Requirement already satisfied: langchain==0.3.14 in c:\\users\\rg255041\\appdata\\local\\anaconda3\\envs\\langchain\\lib\\site-packages (0.3.14)\n",
      "Requirement already satisfied: PyYAML>=5.3 in c:\\users\\rg255041\\appdata\\local\\anaconda3\\envs\\langchain\\lib\\site-packages (from langchain==0.3.14) (6.0.2)\n",
      "Requirement already satisfied: SQLAlchemy<3,>=1.4 in c:\\users\\rg255041\\appdata\\local\\anaconda3\\envs\\langchain\\lib\\site-packages (from langchain==0.3.14) (2.0.36)\n",
      "Requirement already satisfied: aiohttp<4.0.0,>=3.8.3 in c:\\users\\rg255041\\appdata\\local\\anaconda3\\envs\\langchain\\lib\\site-packages (from langchain==0.3.14) (3.11.11)\n",
      "Requirement already satisfied: langchain-core<0.4.0,>=0.3.29 in c:\\users\\rg255041\\appdata\\local\\anaconda3\\envs\\langchain\\lib\\site-packages (from langchain==0.3.14) (0.3.29)\n",
      "Requirement already satisfied: langchain-text-splitters<0.4.0,>=0.3.3 in c:\\users\\rg255041\\appdata\\local\\anaconda3\\envs\\langchain\\lib\\site-packages (from langchain==0.3.14) (0.3.5)\n",
      "Requirement already satisfied: langsmith<0.3,>=0.1.17 in c:\\users\\rg255041\\appdata\\local\\anaconda3\\envs\\langchain\\lib\\site-packages (from langchain==0.3.14) (0.2.10)\n",
      "Requirement already satisfied: numpy<3,>=1.26.2 in c:\\users\\rg255041\\appdata\\local\\anaconda3\\envs\\langchain\\lib\\site-packages (from langchain==0.3.14) (2.2.1)\n",
      "Requirement already satisfied: pydantic<3.0.0,>=2.7.4 in c:\\users\\rg255041\\appdata\\local\\anaconda3\\envs\\langchain\\lib\\site-packages (from langchain==0.3.14) (2.10.4)\n",
      "Requirement already satisfied: requests<3,>=2 in c:\\users\\rg255041\\appdata\\local\\anaconda3\\envs\\langchain\\lib\\site-packages (from langchain==0.3.14) (2.32.3)\n",
      "Requirement already satisfied: tenacity!=8.4.0,<10,>=8.1.0 in c:\\users\\rg255041\\appdata\\local\\anaconda3\\envs\\langchain\\lib\\site-packages (from langchain==0.3.14) (9.0.0)\n",
      "Requirement already satisfied: aiohappyeyeballs>=2.3.0 in c:\\users\\rg255041\\appdata\\local\\anaconda3\\envs\\langchain\\lib\\site-packages (from aiohttp<4.0.0,>=3.8.3->langchain==0.3.14) (2.4.4)\n",
      "Requirement already satisfied: aiosignal>=1.1.2 in c:\\users\\rg255041\\appdata\\local\\anaconda3\\envs\\langchain\\lib\\site-packages (from aiohttp<4.0.0,>=3.8.3->langchain==0.3.14) (1.3.2)\n",
      "Requirement already satisfied: attrs>=17.3.0 in c:\\users\\rg255041\\appdata\\local\\anaconda3\\envs\\langchain\\lib\\site-packages (from aiohttp<4.0.0,>=3.8.3->langchain==0.3.14) (24.3.0)\n",
      "Requirement already satisfied: frozenlist>=1.1.1 in c:\\users\\rg255041\\appdata\\local\\anaconda3\\envs\\langchain\\lib\\site-packages (from aiohttp<4.0.0,>=3.8.3->langchain==0.3.14) (1.5.0)\n",
      "Requirement already satisfied: multidict<7.0,>=4.5 in c:\\users\\rg255041\\appdata\\local\\anaconda3\\envs\\langchain\\lib\\site-packages (from aiohttp<4.0.0,>=3.8.3->langchain==0.3.14) (6.1.0)\n",
      "Requirement already satisfied: propcache>=0.2.0 in c:\\users\\rg255041\\appdata\\local\\anaconda3\\envs\\langchain\\lib\\site-packages (from aiohttp<4.0.0,>=3.8.3->langchain==0.3.14) (0.2.1)\n",
      "Requirement already satisfied: yarl<2.0,>=1.17.0 in c:\\users\\rg255041\\appdata\\local\\anaconda3\\envs\\langchain\\lib\\site-packages (from aiohttp<4.0.0,>=3.8.3->langchain==0.3.14) (1.18.3)\n",
      "Requirement already satisfied: jsonpatch<2.0,>=1.33 in c:\\users\\rg255041\\appdata\\local\\anaconda3\\envs\\langchain\\lib\\site-packages (from langchain-core<0.4.0,>=0.3.29->langchain==0.3.14) (1.33)\n",
      "Requirement already satisfied: packaging<25,>=23.2 in c:\\users\\rg255041\\appdata\\local\\anaconda3\\envs\\langchain\\lib\\site-packages (from langchain-core<0.4.0,>=0.3.29->langchain==0.3.14) (24.2)\n",
      "Requirement already satisfied: typing-extensions>=4.7 in c:\\users\\rg255041\\appdata\\local\\anaconda3\\envs\\langchain\\lib\\site-packages (from langchain-core<0.4.0,>=0.3.29->langchain==0.3.14) (4.12.2)\n",
      "Requirement already satisfied: httpx<1,>=0.23.0 in c:\\users\\rg255041\\appdata\\local\\anaconda3\\envs\\langchain\\lib\\site-packages (from langsmith<0.3,>=0.1.17->langchain==0.3.14) (0.28.1)\n",
      "Requirement already satisfied: orjson<4.0.0,>=3.9.14 in c:\\users\\rg255041\\appdata\\local\\anaconda3\\envs\\langchain\\lib\\site-packages (from langsmith<0.3,>=0.1.17->langchain==0.3.14) (3.10.13)\n",
      "Requirement already satisfied: requests-toolbelt<2.0.0,>=1.0.0 in c:\\users\\rg255041\\appdata\\local\\anaconda3\\envs\\langchain\\lib\\site-packages (from langsmith<0.3,>=0.1.17->langchain==0.3.14) (1.0.0)\n",
      "Requirement already satisfied: annotated-types>=0.6.0 in c:\\users\\rg255041\\appdata\\local\\anaconda3\\envs\\langchain\\lib\\site-packages (from pydantic<3.0.0,>=2.7.4->langchain==0.3.14) (0.7.0)\n",
      "Requirement already satisfied: pydantic-core==2.27.2 in c:\\users\\rg255041\\appdata\\local\\anaconda3\\envs\\langchain\\lib\\site-packages (from pydantic<3.0.0,>=2.7.4->langchain==0.3.14) (2.27.2)\n",
      "Requirement already satisfied: charset-normalizer<4,>=2 in c:\\users\\rg255041\\appdata\\local\\anaconda3\\envs\\langchain\\lib\\site-packages (from requests<3,>=2->langchain==0.3.14) (3.4.1)\n",
      "Requirement already satisfied: idna<4,>=2.5 in c:\\users\\rg255041\\appdata\\local\\anaconda3\\envs\\langchain\\lib\\site-packages (from requests<3,>=2->langchain==0.3.14) (3.10)\n",
      "Requirement already satisfied: urllib3<3,>=1.21.1 in c:\\users\\rg255041\\appdata\\local\\anaconda3\\envs\\langchain\\lib\\site-packages (from requests<3,>=2->langchain==0.3.14) (2.3.0)\n",
      "Requirement already satisfied: certifi>=2017.4.17 in c:\\users\\rg255041\\appdata\\local\\anaconda3\\envs\\langchain\\lib\\site-packages (from requests<3,>=2->langchain==0.3.14) (2024.12.14)\n",
      "Requirement already satisfied: greenlet!=0.4.17 in c:\\users\\rg255041\\appdata\\local\\anaconda3\\envs\\langchain\\lib\\site-packages (from SQLAlchemy<3,>=1.4->langchain==0.3.14) (3.1.1)\n",
      "Requirement already satisfied: anyio in c:\\users\\rg255041\\appdata\\local\\anaconda3\\envs\\langchain\\lib\\site-packages (from httpx<1,>=0.23.0->langsmith<0.3,>=0.1.17->langchain==0.3.14) (4.8.0)\n",
      "Requirement already satisfied: httpcore==1.* in c:\\users\\rg255041\\appdata\\local\\anaconda3\\envs\\langchain\\lib\\site-packages (from httpx<1,>=0.23.0->langsmith<0.3,>=0.1.17->langchain==0.3.14) (1.0.7)\n",
      "Requirement already satisfied: h11<0.15,>=0.13 in c:\\users\\rg255041\\appdata\\local\\anaconda3\\envs\\langchain\\lib\\site-packages (from httpcore==1.*->httpx<1,>=0.23.0->langsmith<0.3,>=0.1.17->langchain==0.3.14) (0.14.0)\n",
      "Requirement already satisfied: jsonpointer>=1.9 in c:\\users\\rg255041\\appdata\\local\\anaconda3\\envs\\langchain\\lib\\site-packages (from jsonpatch<2.0,>=1.33->langchain-core<0.4.0,>=0.3.29->langchain==0.3.14) (3.0.0)\n",
      "Requirement already satisfied: sniffio>=1.1 in c:\\users\\rg255041\\appdata\\local\\anaconda3\\envs\\langchain\\lib\\site-packages (from anyio->httpx<1,>=0.23.0->langsmith<0.3,>=0.1.17->langchain==0.3.14) (1.3.1)\n",
      "Note: you may need to restart the kernel to use updated packages.\n"
     ]
    }
   ],
   "source": [
    "%pip install python-dotenv==0.21.0\n",
    "%pip install openai==1.59.4\n",
    "%pip install langchain==0.3.14"
   ]
  },
  {
   "cell_type": "markdown",
   "metadata": {},
   "source": [
    "Import required libraries and specify API key"
   ]
  },
  {
   "cell_type": "code",
   "execution_count": 16,
   "metadata": {},
   "outputs": [],
   "source": [
    "import os\n",
    "from openai import OpenAI\n",
    "\n",
    "from dotenv import load_dotenv, find_dotenv"
   ]
  },
  {
   "cell_type": "markdown",
   "metadata": {},
   "source": [
    "Load API Key that is stored in a local .env file. This prevents the need to hardcode the API key which will be a security vulnerability. "
   ]
  },
  {
   "cell_type": "code",
   "execution_count": 22,
   "metadata": {},
   "outputs": [],
   "source": [
    "_ = load_dotenv(find_dotenv()) # read local .env file\n",
    "client = OpenAI(\n",
    "    api_key=os.environ.get(\"OPENAI_API_KEY\"),\n",
    ")"
   ]
  },
  {
   "cell_type": "markdown",
   "metadata": {},
   "source": [
    "Create a helper function to call the OpenAI model. This takes the prompt as input and outputs the response. "
   ]
  },
  {
   "cell_type": "code",
   "execution_count": 23,
   "metadata": {},
   "outputs": [],
   "source": [
    "def get_completion(prompt):\n",
    "    messages = [{\"role\": \"user\", \"content\": prompt}]\n",
    "    response = client.chat.completions.create(\n",
    "        model=\"gpt-3.5-turbo\",\n",
    "        messages=[{\"role\": \"user\", \"content\": prompt}]\n",
    "    )\n",
    "    return response.choices[0].message.content.strip()\n"
   ]
  },
  {
   "cell_type": "markdown",
   "metadata": {},
   "source": [
    "Test connectivity with sample code to leverage the GPT model for translation. "
   ]
  },
  {
   "cell_type": "code",
   "execution_count": 31,
   "metadata": {},
   "outputs": [
    {
     "name": "stdout",
     "output_type": "stream",
     "text": [
      "This is the sample prompt:\n",
      " Translate the text that is delimited by triple backticks \n",
      "into a style that is American English in a calm and respectful tone\n",
      ".\n",
      "text: ```\n",
      "Arrr, I be fuming that me blender lid flew off and splattered me kitchen walls with smoothie! And to make matters worse,the warranty don't cover the cost of cleaning up me kitchen. I need yer help right now, matey!\n",
      "```\n",
      "\n",
      "\n",
      "This is the response: \n",
      " Oh man, I'm really frustrated that my blender lid flew off and made a mess of my kitchen walls with smoothie! And to top it off, the warranty doesn't cover the cost of cleaning up my kitchen. I could really use your help right now, buddy!\n"
     ]
    }
   ],
   "source": [
    "customer_email = \"\"\"\n",
    "Arrr, I be fuming that me blender lid \\\n",
    "flew off and splattered me kitchen walls \\\n",
    "with smoothie! And to make matters worse,\\\n",
    "the warranty don't cover the cost of \\\n",
    "cleaning up me kitchen. I need yer help \\\n",
    "right now, matey!\n",
    "\"\"\"\n",
    "\n",
    "style = \"\"\"American English \\\n",
    "in a calm and respectful tone\n",
    "\"\"\"\n",
    "\n",
    "prompt = f\"\"\"Translate the text \\\n",
    "that is delimited by triple backticks \n",
    "into a style that is {style}.\n",
    "text: ```{customer_email}```\n",
    "\"\"\"\n",
    "\n",
    "response = get_completion(prompt)\n",
    "\n",
    "print(f\"This is the sample prompt:\\n {prompt}\\n\")\n",
    "print(f\"This is the response: \\n {response}\")"
   ]
  },
  {
   "cell_type": "code",
   "execution_count": 26,
   "metadata": {},
   "outputs": [],
   "source": []
  },
  {
   "cell_type": "code",
   "execution_count": null,
   "metadata": {},
   "outputs": [],
   "source": []
  },
  {
   "cell_type": "code",
   "execution_count": 28,
   "metadata": {},
   "outputs": [],
   "source": []
  },
  {
   "cell_type": "code",
   "execution_count": null,
   "metadata": {},
   "outputs": [],
   "source": []
  },
  {
   "cell_type": "code",
   "execution_count": null,
   "metadata": {},
   "outputs": [],
   "source": []
  }
 ],
 "metadata": {
  "kernelspec": {
   "display_name": "Langchain",
   "language": "python",
   "name": "python3"
  },
  "language_info": {
   "codemirror_mode": {
    "name": "ipython",
    "version": 3
   },
   "file_extension": ".py",
   "mimetype": "text/x-python",
   "name": "python",
   "nbconvert_exporter": "python",
   "pygments_lexer": "ipython3",
   "version": "3.12.8"
  }
 },
 "nbformat": 4,
 "nbformat_minor": 2
}

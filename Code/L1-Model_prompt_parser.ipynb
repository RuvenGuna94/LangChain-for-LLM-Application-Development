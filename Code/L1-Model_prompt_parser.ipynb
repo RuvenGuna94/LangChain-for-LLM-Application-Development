{
 "cells": [
  {
   "cell_type": "markdown",
   "metadata": {},
   "source": [
    "# LangChain: Models, Prompts and Output Parsers\n",
    "\n",
    "## Notebook Overview\n",
    " * Direct API calls to OpenAI\n",
    " * API calls through LangChain:\n",
    "   * Prompts\n",
    "   * Models\n",
    "   * Output parsers"
   ]
  },
  {
   "cell_type": "code",
   "execution_count": 4,
   "metadata": {},
   "outputs": [
    {
     "name": "stdout",
     "output_type": "stream",
     "text": [
      "Collecting python-dotenv==0.21.0\n",
      "  Downloading python_dotenv-0.21.0-py3-none-any.whl.metadata (20 kB)\n",
      "Downloading python_dotenv-0.21.0-py3-none-any.whl (18 kB)\n",
      "Installing collected packages: python-dotenv\n",
      "  Attempting uninstall: python-dotenv\n",
      "    Found existing installation: python-dotenv 1.0.1\n",
      "    Uninstalling python-dotenv-1.0.1:\n",
      "      Successfully uninstalled python-dotenv-1.0.1\n",
      "Successfully installed python-dotenv-0.21.0\n",
      "Note: you may need to restart the kernel to use updated packages.\n",
      "Requirement already satisfied: openai==1.59.4 in c:\\users\\rg255041\\appdata\\local\\anaconda3\\envs\\langchain\\lib\\site-packages (1.59.4)\n",
      "Requirement already satisfied: anyio<5,>=3.5.0 in c:\\users\\rg255041\\appdata\\local\\anaconda3\\envs\\langchain\\lib\\site-packages (from openai==1.59.4) (4.8.0)\n",
      "Requirement already satisfied: distro<2,>=1.7.0 in c:\\users\\rg255041\\appdata\\local\\anaconda3\\envs\\langchain\\lib\\site-packages (from openai==1.59.4) (1.9.0)\n",
      "Requirement already satisfied: httpx<1,>=0.23.0 in c:\\users\\rg255041\\appdata\\local\\anaconda3\\envs\\langchain\\lib\\site-packages (from openai==1.59.4) (0.28.1)\n",
      "Requirement already satisfied: jiter<1,>=0.4.0 in c:\\users\\rg255041\\appdata\\local\\anaconda3\\envs\\langchain\\lib\\site-packages (from openai==1.59.4) (0.8.2)\n",
      "Requirement already satisfied: pydantic<3,>=1.9.0 in c:\\users\\rg255041\\appdata\\local\\anaconda3\\envs\\langchain\\lib\\site-packages (from openai==1.59.4) (2.10.4)\n",
      "Requirement already satisfied: sniffio in c:\\users\\rg255041\\appdata\\local\\anaconda3\\envs\\langchain\\lib\\site-packages (from openai==1.59.4) (1.3.1)\n",
      "Requirement already satisfied: tqdm>4 in c:\\users\\rg255041\\appdata\\local\\anaconda3\\envs\\langchain\\lib\\site-packages (from openai==1.59.4) (4.67.1)\n",
      "Requirement already satisfied: typing-extensions<5,>=4.11 in c:\\users\\rg255041\\appdata\\local\\anaconda3\\envs\\langchain\\lib\\site-packages (from openai==1.59.4) (4.12.2)\n",
      "Requirement already satisfied: idna>=2.8 in c:\\users\\rg255041\\appdata\\local\\anaconda3\\envs\\langchain\\lib\\site-packages (from anyio<5,>=3.5.0->openai==1.59.4) (3.10)\n",
      "Requirement already satisfied: certifi in c:\\users\\rg255041\\appdata\\local\\anaconda3\\envs\\langchain\\lib\\site-packages (from httpx<1,>=0.23.0->openai==1.59.4) (2024.12.14)\n",
      "Requirement already satisfied: httpcore==1.* in c:\\users\\rg255041\\appdata\\local\\anaconda3\\envs\\langchain\\lib\\site-packages (from httpx<1,>=0.23.0->openai==1.59.4) (1.0.7)\n",
      "Requirement already satisfied: h11<0.15,>=0.13 in c:\\users\\rg255041\\appdata\\local\\anaconda3\\envs\\langchain\\lib\\site-packages (from httpcore==1.*->httpx<1,>=0.23.0->openai==1.59.4) (0.14.0)\n",
      "Requirement already satisfied: annotated-types>=0.6.0 in c:\\users\\rg255041\\appdata\\local\\anaconda3\\envs\\langchain\\lib\\site-packages (from pydantic<3,>=1.9.0->openai==1.59.4) (0.7.0)\n",
      "Requirement already satisfied: pydantic-core==2.27.2 in c:\\users\\rg255041\\appdata\\local\\anaconda3\\envs\\langchain\\lib\\site-packages (from pydantic<3,>=1.9.0->openai==1.59.4) (2.27.2)\n",
      "Requirement already satisfied: colorama in c:\\users\\rg255041\\appdata\\local\\anaconda3\\envs\\langchain\\lib\\site-packages (from tqdm>4->openai==1.59.4) (0.4.6)\n",
      "Note: you may need to restart the kernel to use updated packages.\n",
      "Requirement already satisfied: langchain==0.3.14 in c:\\users\\rg255041\\appdata\\local\\anaconda3\\envs\\langchain\\lib\\site-packages (0.3.14)\n",
      "Requirement already satisfied: PyYAML>=5.3 in c:\\users\\rg255041\\appdata\\local\\anaconda3\\envs\\langchain\\lib\\site-packages (from langchain==0.3.14) (6.0.2)\n",
      "Requirement already satisfied: SQLAlchemy<3,>=1.4 in c:\\users\\rg255041\\appdata\\local\\anaconda3\\envs\\langchain\\lib\\site-packages (from langchain==0.3.14) (2.0.36)\n",
      "Requirement already satisfied: aiohttp<4.0.0,>=3.8.3 in c:\\users\\rg255041\\appdata\\local\\anaconda3\\envs\\langchain\\lib\\site-packages (from langchain==0.3.14) (3.11.11)\n",
      "Requirement already satisfied: langchain-core<0.4.0,>=0.3.29 in c:\\users\\rg255041\\appdata\\local\\anaconda3\\envs\\langchain\\lib\\site-packages (from langchain==0.3.14) (0.3.29)\n",
      "Requirement already satisfied: langchain-text-splitters<0.4.0,>=0.3.3 in c:\\users\\rg255041\\appdata\\local\\anaconda3\\envs\\langchain\\lib\\site-packages (from langchain==0.3.14) (0.3.5)\n",
      "Requirement already satisfied: langsmith<0.3,>=0.1.17 in c:\\users\\rg255041\\appdata\\local\\anaconda3\\envs\\langchain\\lib\\site-packages (from langchain==0.3.14) (0.2.10)\n",
      "Requirement already satisfied: numpy<3,>=1.26.2 in c:\\users\\rg255041\\appdata\\local\\anaconda3\\envs\\langchain\\lib\\site-packages (from langchain==0.3.14) (2.2.1)\n",
      "Requirement already satisfied: pydantic<3.0.0,>=2.7.4 in c:\\users\\rg255041\\appdata\\local\\anaconda3\\envs\\langchain\\lib\\site-packages (from langchain==0.3.14) (2.10.4)\n",
      "Requirement already satisfied: requests<3,>=2 in c:\\users\\rg255041\\appdata\\local\\anaconda3\\envs\\langchain\\lib\\site-packages (from langchain==0.3.14) (2.32.3)\n",
      "Requirement already satisfied: tenacity!=8.4.0,<10,>=8.1.0 in c:\\users\\rg255041\\appdata\\local\\anaconda3\\envs\\langchain\\lib\\site-packages (from langchain==0.3.14) (9.0.0)\n",
      "Requirement already satisfied: aiohappyeyeballs>=2.3.0 in c:\\users\\rg255041\\appdata\\local\\anaconda3\\envs\\langchain\\lib\\site-packages (from aiohttp<4.0.0,>=3.8.3->langchain==0.3.14) (2.4.4)\n",
      "Requirement already satisfied: aiosignal>=1.1.2 in c:\\users\\rg255041\\appdata\\local\\anaconda3\\envs\\langchain\\lib\\site-packages (from aiohttp<4.0.0,>=3.8.3->langchain==0.3.14) (1.3.2)\n",
      "Requirement already satisfied: attrs>=17.3.0 in c:\\users\\rg255041\\appdata\\local\\anaconda3\\envs\\langchain\\lib\\site-packages (from aiohttp<4.0.0,>=3.8.3->langchain==0.3.14) (24.3.0)\n",
      "Requirement already satisfied: frozenlist>=1.1.1 in c:\\users\\rg255041\\appdata\\local\\anaconda3\\envs\\langchain\\lib\\site-packages (from aiohttp<4.0.0,>=3.8.3->langchain==0.3.14) (1.5.0)\n",
      "Requirement already satisfied: multidict<7.0,>=4.5 in c:\\users\\rg255041\\appdata\\local\\anaconda3\\envs\\langchain\\lib\\site-packages (from aiohttp<4.0.0,>=3.8.3->langchain==0.3.14) (6.1.0)\n",
      "Requirement already satisfied: propcache>=0.2.0 in c:\\users\\rg255041\\appdata\\local\\anaconda3\\envs\\langchain\\lib\\site-packages (from aiohttp<4.0.0,>=3.8.3->langchain==0.3.14) (0.2.1)\n",
      "Requirement already satisfied: yarl<2.0,>=1.17.0 in c:\\users\\rg255041\\appdata\\local\\anaconda3\\envs\\langchain\\lib\\site-packages (from aiohttp<4.0.0,>=3.8.3->langchain==0.3.14) (1.18.3)\n",
      "Requirement already satisfied: jsonpatch<2.0,>=1.33 in c:\\users\\rg255041\\appdata\\local\\anaconda3\\envs\\langchain\\lib\\site-packages (from langchain-core<0.4.0,>=0.3.29->langchain==0.3.14) (1.33)\n",
      "Requirement already satisfied: packaging<25,>=23.2 in c:\\users\\rg255041\\appdata\\local\\anaconda3\\envs\\langchain\\lib\\site-packages (from langchain-core<0.4.0,>=0.3.29->langchain==0.3.14) (24.2)\n",
      "Requirement already satisfied: typing-extensions>=4.7 in c:\\users\\rg255041\\appdata\\local\\anaconda3\\envs\\langchain\\lib\\site-packages (from langchain-core<0.4.0,>=0.3.29->langchain==0.3.14) (4.12.2)\n",
      "Requirement already satisfied: httpx<1,>=0.23.0 in c:\\users\\rg255041\\appdata\\local\\anaconda3\\envs\\langchain\\lib\\site-packages (from langsmith<0.3,>=0.1.17->langchain==0.3.14) (0.28.1)\n",
      "Requirement already satisfied: orjson<4.0.0,>=3.9.14 in c:\\users\\rg255041\\appdata\\local\\anaconda3\\envs\\langchain\\lib\\site-packages (from langsmith<0.3,>=0.1.17->langchain==0.3.14) (3.10.13)\n",
      "Requirement already satisfied: requests-toolbelt<2.0.0,>=1.0.0 in c:\\users\\rg255041\\appdata\\local\\anaconda3\\envs\\langchain\\lib\\site-packages (from langsmith<0.3,>=0.1.17->langchain==0.3.14) (1.0.0)\n",
      "Requirement already satisfied: annotated-types>=0.6.0 in c:\\users\\rg255041\\appdata\\local\\anaconda3\\envs\\langchain\\lib\\site-packages (from pydantic<3.0.0,>=2.7.4->langchain==0.3.14) (0.7.0)\n",
      "Requirement already satisfied: pydantic-core==2.27.2 in c:\\users\\rg255041\\appdata\\local\\anaconda3\\envs\\langchain\\lib\\site-packages (from pydantic<3.0.0,>=2.7.4->langchain==0.3.14) (2.27.2)\n",
      "Requirement already satisfied: charset-normalizer<4,>=2 in c:\\users\\rg255041\\appdata\\local\\anaconda3\\envs\\langchain\\lib\\site-packages (from requests<3,>=2->langchain==0.3.14) (3.4.1)\n",
      "Requirement already satisfied: idna<4,>=2.5 in c:\\users\\rg255041\\appdata\\local\\anaconda3\\envs\\langchain\\lib\\site-packages (from requests<3,>=2->langchain==0.3.14) (3.10)\n",
      "Requirement already satisfied: urllib3<3,>=1.21.1 in c:\\users\\rg255041\\appdata\\local\\anaconda3\\envs\\langchain\\lib\\site-packages (from requests<3,>=2->langchain==0.3.14) (2.3.0)\n",
      "Requirement already satisfied: certifi>=2017.4.17 in c:\\users\\rg255041\\appdata\\local\\anaconda3\\envs\\langchain\\lib\\site-packages (from requests<3,>=2->langchain==0.3.14) (2024.12.14)\n",
      "Requirement already satisfied: greenlet!=0.4.17 in c:\\users\\rg255041\\appdata\\local\\anaconda3\\envs\\langchain\\lib\\site-packages (from SQLAlchemy<3,>=1.4->langchain==0.3.14) (3.1.1)\n",
      "Requirement already satisfied: anyio in c:\\users\\rg255041\\appdata\\local\\anaconda3\\envs\\langchain\\lib\\site-packages (from httpx<1,>=0.23.0->langsmith<0.3,>=0.1.17->langchain==0.3.14) (4.8.0)\n",
      "Requirement already satisfied: httpcore==1.* in c:\\users\\rg255041\\appdata\\local\\anaconda3\\envs\\langchain\\lib\\site-packages (from httpx<1,>=0.23.0->langsmith<0.3,>=0.1.17->langchain==0.3.14) (1.0.7)\n",
      "Requirement already satisfied: h11<0.15,>=0.13 in c:\\users\\rg255041\\appdata\\local\\anaconda3\\envs\\langchain\\lib\\site-packages (from httpcore==1.*->httpx<1,>=0.23.0->langsmith<0.3,>=0.1.17->langchain==0.3.14) (0.14.0)\n",
      "Requirement already satisfied: jsonpointer>=1.9 in c:\\users\\rg255041\\appdata\\local\\anaconda3\\envs\\langchain\\lib\\site-packages (from jsonpatch<2.0,>=1.33->langchain-core<0.4.0,>=0.3.29->langchain==0.3.14) (3.0.0)\n",
      "Requirement already satisfied: sniffio>=1.1 in c:\\users\\rg255041\\appdata\\local\\anaconda3\\envs\\langchain\\lib\\site-packages (from anyio->httpx<1,>=0.23.0->langsmith<0.3,>=0.1.17->langchain==0.3.14) (1.3.1)\n",
      "Note: you may need to restart the kernel to use updated packages.\n"
     ]
    }
   ],
   "source": [
    "%pip install python-dotenv==0.21.0\n",
    "%pip install openai==1.59.4\n",
    "%pip install langchain==0.3.14"
   ]
  },
  {
   "cell_type": "code",
   "execution_count": null,
   "metadata": {},
   "outputs": [],
   "source": []
  }
 ],
 "metadata": {
  "kernelspec": {
   "display_name": "Langchain",
   "language": "python",
   "name": "python3"
  },
  "language_info": {
   "codemirror_mode": {
    "name": "ipython",
    "version": 3
   },
   "file_extension": ".py",
   "mimetype": "text/x-python",
   "name": "python",
   "nbconvert_exporter": "python",
   "pygments_lexer": "ipython3",
   "version": "3.12.8"
  }
 },
 "nbformat": 4,
 "nbformat_minor": 2
}
